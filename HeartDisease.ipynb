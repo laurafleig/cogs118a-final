{
 "cells": [
  {
   "cell_type": "markdown",
   "metadata": {},
   "source": [
    "# General setup"
   ]
  },
  {
   "cell_type": "code",
   "execution_count": 1,
   "metadata": {},
   "outputs": [
    {
     "name": "stdout",
     "output_type": "stream",
     "text": [
      "Requirement already satisfied: numpy>=1.21.0 in /Users/Laura/anaconda3/envs/cogs118afinal/lib/python3.12/site-packages (from -r requirements.txt (line 1)) (1.26.4)\n",
      "Requirement already satisfied: pandas>=1.3.0 in /Users/Laura/anaconda3/envs/cogs118afinal/lib/python3.12/site-packages (from -r requirements.txt (line 2)) (2.2.3)\n",
      "Requirement already satisfied: scikit-learn>=1.0.0 in /Users/Laura/anaconda3/envs/cogs118afinal/lib/python3.12/site-packages (from -r requirements.txt (line 3)) (1.5.1)\n",
      "Requirement already satisfied: matplotlib>=3.4.0 in /Users/Laura/anaconda3/envs/cogs118afinal/lib/python3.12/site-packages (from -r requirements.txt (line 4)) (3.9.2)\n",
      "Requirement already satisfied: seaborn>=0.11.0 in /Users/Laura/anaconda3/envs/cogs118afinal/lib/python3.12/site-packages (from -r requirements.txt (line 5)) (0.13.2)\n",
      "Requirement already satisfied: jupyter>=1.0.0 in /Users/Laura/anaconda3/envs/cogs118afinal/lib/python3.12/site-packages (from -r requirements.txt (line 6)) (1.0.0)\n",
      "Requirement already satisfied: notebook>=6.4.0 in /Users/Laura/anaconda3/envs/cogs118afinal/lib/python3.12/site-packages (from -r requirements.txt (line 7)) (7.2.2)\n",
      "Requirement already satisfied: tqdm>=4.62.0 in /Users/Laura/anaconda3/envs/cogs118afinal/lib/python3.12/site-packages (from -r requirements.txt (line 8)) (4.66.5)\n",
      "Requirement already satisfied: scipy>=1.7.0 in /Users/Laura/anaconda3/envs/cogs118afinal/lib/python3.12/site-packages (from -r requirements.txt (line 9)) (1.14.1)\n",
      "Requirement already satisfied: python-dateutil>=2.8.2 in /Users/Laura/anaconda3/envs/cogs118afinal/lib/python3.12/site-packages (from pandas>=1.3.0->-r requirements.txt (line 2)) (2.9.0.post0)\n",
      "Requirement already satisfied: pytz>=2020.1 in /Users/Laura/anaconda3/envs/cogs118afinal/lib/python3.12/site-packages (from pandas>=1.3.0->-r requirements.txt (line 2)) (2024.1)\n",
      "Requirement already satisfied: tzdata>=2022.7 in /Users/Laura/anaconda3/envs/cogs118afinal/lib/python3.12/site-packages (from pandas>=1.3.0->-r requirements.txt (line 2)) (2023.3)\n",
      "Requirement already satisfied: joblib>=1.2.0 in /Users/Laura/anaconda3/envs/cogs118afinal/lib/python3.12/site-packages (from scikit-learn>=1.0.0->-r requirements.txt (line 3)) (1.4.2)\n",
      "Requirement already satisfied: threadpoolctl>=3.1.0 in /Users/Laura/anaconda3/envs/cogs118afinal/lib/python3.12/site-packages (from scikit-learn>=1.0.0->-r requirements.txt (line 3)) (3.5.0)\n",
      "Requirement already satisfied: contourpy>=1.0.1 in /Users/Laura/anaconda3/envs/cogs118afinal/lib/python3.12/site-packages (from matplotlib>=3.4.0->-r requirements.txt (line 4)) (1.3.1)\n",
      "Requirement already satisfied: cycler>=0.10 in /Users/Laura/anaconda3/envs/cogs118afinal/lib/python3.12/site-packages (from matplotlib>=3.4.0->-r requirements.txt (line 4)) (0.11.0)\n",
      "Requirement already satisfied: fonttools>=4.22.0 in /Users/Laura/anaconda3/envs/cogs118afinal/lib/python3.12/site-packages (from matplotlib>=3.4.0->-r requirements.txt (line 4)) (4.51.0)\n",
      "Requirement already satisfied: kiwisolver>=1.3.1 in /Users/Laura/anaconda3/envs/cogs118afinal/lib/python3.12/site-packages (from matplotlib>=3.4.0->-r requirements.txt (line 4)) (1.4.4)\n",
      "Requirement already satisfied: packaging>=20.0 in /Users/Laura/anaconda3/envs/cogs118afinal/lib/python3.12/site-packages (from matplotlib>=3.4.0->-r requirements.txt (line 4)) (24.1)\n",
      "Requirement already satisfied: pillow>=8 in /Users/Laura/anaconda3/envs/cogs118afinal/lib/python3.12/site-packages (from matplotlib>=3.4.0->-r requirements.txt (line 4)) (11.0.0)\n",
      "Requirement already satisfied: pyparsing>=2.3.1 in /Users/Laura/anaconda3/envs/cogs118afinal/lib/python3.12/site-packages (from matplotlib>=3.4.0->-r requirements.txt (line 4)) (3.2.0)\n",
      "Requirement already satisfied: qtconsole in /Users/Laura/anaconda3/envs/cogs118afinal/lib/python3.12/site-packages (from jupyter>=1.0.0->-r requirements.txt (line 6)) (5.6.0)\n",
      "Requirement already satisfied: jupyter-console in /Users/Laura/anaconda3/envs/cogs118afinal/lib/python3.12/site-packages (from jupyter>=1.0.0->-r requirements.txt (line 6)) (6.6.3)\n",
      "Requirement already satisfied: nbconvert in /Users/Laura/anaconda3/envs/cogs118afinal/lib/python3.12/site-packages (from jupyter>=1.0.0->-r requirements.txt (line 6)) (7.16.4)\n",
      "Requirement already satisfied: ipykernel in /Users/Laura/anaconda3/envs/cogs118afinal/lib/python3.12/site-packages (from jupyter>=1.0.0->-r requirements.txt (line 6)) (6.29.5)\n",
      "Requirement already satisfied: ipywidgets in /Users/Laura/anaconda3/envs/cogs118afinal/lib/python3.12/site-packages (from jupyter>=1.0.0->-r requirements.txt (line 6)) (8.1.5)\n",
      "Requirement already satisfied: jupyter-server<3,>=2.4.0 in /Users/Laura/anaconda3/envs/cogs118afinal/lib/python3.12/site-packages (from notebook>=6.4.0->-r requirements.txt (line 7)) (2.14.1)\n",
      "Requirement already satisfied: jupyterlab-server<3,>=2.27.1 in /Users/Laura/anaconda3/envs/cogs118afinal/lib/python3.12/site-packages (from notebook>=6.4.0->-r requirements.txt (line 7)) (2.27.3)\n",
      "Requirement already satisfied: jupyterlab<4.3,>=4.2.0 in /Users/Laura/anaconda3/envs/cogs118afinal/lib/python3.12/site-packages (from notebook>=6.4.0->-r requirements.txt (line 7)) (4.2.5)\n",
      "Requirement already satisfied: notebook-shim<0.3,>=0.2 in /Users/Laura/anaconda3/envs/cogs118afinal/lib/python3.12/site-packages (from notebook>=6.4.0->-r requirements.txt (line 7)) (0.2.3)\n",
      "Requirement already satisfied: tornado>=6.2.0 in /Users/Laura/anaconda3/envs/cogs118afinal/lib/python3.12/site-packages (from notebook>=6.4.0->-r requirements.txt (line 7)) (6.4.1)\n",
      "Requirement already satisfied: anyio>=3.1.0 in /Users/Laura/anaconda3/envs/cogs118afinal/lib/python3.12/site-packages (from jupyter-server<3,>=2.4.0->notebook>=6.4.0->-r requirements.txt (line 7)) (4.6.2)\n",
      "Requirement already satisfied: argon2-cffi>=21.1 in /Users/Laura/anaconda3/envs/cogs118afinal/lib/python3.12/site-packages (from jupyter-server<3,>=2.4.0->notebook>=6.4.0->-r requirements.txt (line 7)) (21.3.0)\n",
      "Requirement already satisfied: jinja2>=3.0.3 in /Users/Laura/anaconda3/envs/cogs118afinal/lib/python3.12/site-packages (from jupyter-server<3,>=2.4.0->notebook>=6.4.0->-r requirements.txt (line 7)) (3.1.4)\n",
      "Requirement already satisfied: jupyter-client>=7.4.4 in /Users/Laura/anaconda3/envs/cogs118afinal/lib/python3.12/site-packages (from jupyter-server<3,>=2.4.0->notebook>=6.4.0->-r requirements.txt (line 7)) (8.6.0)\n",
      "Requirement already satisfied: jupyter-core!=5.0.*,>=4.12 in /Users/Laura/anaconda3/envs/cogs118afinal/lib/python3.12/site-packages (from jupyter-server<3,>=2.4.0->notebook>=6.4.0->-r requirements.txt (line 7)) (5.7.2)\n",
      "Requirement already satisfied: jupyter-events>=0.9.0 in /Users/Laura/anaconda3/envs/cogs118afinal/lib/python3.12/site-packages (from jupyter-server<3,>=2.4.0->notebook>=6.4.0->-r requirements.txt (line 7)) (0.10.0)\n",
      "Requirement already satisfied: jupyter-server-terminals>=0.4.4 in /Users/Laura/anaconda3/envs/cogs118afinal/lib/python3.12/site-packages (from jupyter-server<3,>=2.4.0->notebook>=6.4.0->-r requirements.txt (line 7)) (0.4.4)\n",
      "Requirement already satisfied: nbformat>=5.3.0 in /Users/Laura/anaconda3/envs/cogs118afinal/lib/python3.12/site-packages (from jupyter-server<3,>=2.4.0->notebook>=6.4.0->-r requirements.txt (line 7)) (5.10.4)\n",
      "Requirement already satisfied: overrides>=5.0 in /Users/Laura/anaconda3/envs/cogs118afinal/lib/python3.12/site-packages (from jupyter-server<3,>=2.4.0->notebook>=6.4.0->-r requirements.txt (line 7)) (7.4.0)\n",
      "Requirement already satisfied: prometheus-client>=0.9 in /Users/Laura/anaconda3/envs/cogs118afinal/lib/python3.12/site-packages (from jupyter-server<3,>=2.4.0->notebook>=6.4.0->-r requirements.txt (line 7)) (0.21.0)\n",
      "Requirement already satisfied: pyzmq>=24 in /Users/Laura/anaconda3/envs/cogs118afinal/lib/python3.12/site-packages (from jupyter-server<3,>=2.4.0->notebook>=6.4.0->-r requirements.txt (line 7)) (25.1.2)\n",
      "Requirement already satisfied: send2trash>=1.8.2 in /Users/Laura/anaconda3/envs/cogs118afinal/lib/python3.12/site-packages (from jupyter-server<3,>=2.4.0->notebook>=6.4.0->-r requirements.txt (line 7)) (1.8.2)\n",
      "Requirement already satisfied: terminado>=0.8.3 in /Users/Laura/anaconda3/envs/cogs118afinal/lib/python3.12/site-packages (from jupyter-server<3,>=2.4.0->notebook>=6.4.0->-r requirements.txt (line 7)) (0.17.1)\n",
      "Requirement already satisfied: traitlets>=5.6.0 in /Users/Laura/anaconda3/envs/cogs118afinal/lib/python3.12/site-packages (from jupyter-server<3,>=2.4.0->notebook>=6.4.0->-r requirements.txt (line 7)) (5.14.3)\n",
      "Requirement already satisfied: websocket-client>=1.7 in /Users/Laura/anaconda3/envs/cogs118afinal/lib/python3.12/site-packages (from jupyter-server<3,>=2.4.0->notebook>=6.4.0->-r requirements.txt (line 7)) (1.8.0)\n",
      "Requirement already satisfied: async-lru>=1.0.0 in /Users/Laura/anaconda3/envs/cogs118afinal/lib/python3.12/site-packages (from jupyterlab<4.3,>=4.2.0->notebook>=6.4.0->-r requirements.txt (line 7)) (2.0.4)\n",
      "Requirement already satisfied: httpx>=0.25.0 in /Users/Laura/anaconda3/envs/cogs118afinal/lib/python3.12/site-packages (from jupyterlab<4.3,>=4.2.0->notebook>=6.4.0->-r requirements.txt (line 7)) (0.27.0)\n",
      "Requirement already satisfied: jupyter-lsp>=2.0.0 in /Users/Laura/anaconda3/envs/cogs118afinal/lib/python3.12/site-packages (from jupyterlab<4.3,>=4.2.0->notebook>=6.4.0->-r requirements.txt (line 7)) (2.2.0)\n",
      "Requirement already satisfied: setuptools>=40.1.0 in /Users/Laura/anaconda3/envs/cogs118afinal/lib/python3.12/site-packages (from jupyterlab<4.3,>=4.2.0->notebook>=6.4.0->-r requirements.txt (line 7)) (75.1.0)\n",
      "Requirement already satisfied: appnope in /Users/Laura/anaconda3/envs/cogs118afinal/lib/python3.12/site-packages (from ipykernel->jupyter>=1.0.0->-r requirements.txt (line 6)) (0.1.3)\n",
      "Requirement already satisfied: comm>=0.1.1 in /Users/Laura/anaconda3/envs/cogs118afinal/lib/python3.12/site-packages (from ipykernel->jupyter>=1.0.0->-r requirements.txt (line 6)) (0.2.1)\n",
      "Requirement already satisfied: debugpy>=1.6.5 in /Users/Laura/anaconda3/envs/cogs118afinal/lib/python3.12/site-packages (from ipykernel->jupyter>=1.0.0->-r requirements.txt (line 6)) (1.6.7)\n",
      "Requirement already satisfied: ipython>=7.23.1 in /Users/Laura/anaconda3/envs/cogs118afinal/lib/python3.12/site-packages (from ipykernel->jupyter>=1.0.0->-r requirements.txt (line 6)) (8.27.0)\n",
      "Requirement already satisfied: matplotlib-inline>=0.1 in /Users/Laura/anaconda3/envs/cogs118afinal/lib/python3.12/site-packages (from ipykernel->jupyter>=1.0.0->-r requirements.txt (line 6)) (0.1.6)\n",
      "Requirement already satisfied: nest-asyncio in /Users/Laura/anaconda3/envs/cogs118afinal/lib/python3.12/site-packages (from ipykernel->jupyter>=1.0.0->-r requirements.txt (line 6)) (1.6.0)\n",
      "Requirement already satisfied: psutil in /Users/Laura/anaconda3/envs/cogs118afinal/lib/python3.12/site-packages (from ipykernel->jupyter>=1.0.0->-r requirements.txt (line 6)) (5.9.0)\n",
      "Requirement already satisfied: babel>=2.10 in /Users/Laura/anaconda3/envs/cogs118afinal/lib/python3.12/site-packages (from jupyterlab-server<3,>=2.27.1->notebook>=6.4.0->-r requirements.txt (line 7)) (2.11.0)\n",
      "Requirement already satisfied: json5>=0.9.0 in /Users/Laura/anaconda3/envs/cogs118afinal/lib/python3.12/site-packages (from jupyterlab-server<3,>=2.27.1->notebook>=6.4.0->-r requirements.txt (line 7)) (0.9.25)\n",
      "Requirement already satisfied: jsonschema>=4.18.0 in /Users/Laura/anaconda3/envs/cogs118afinal/lib/python3.12/site-packages (from jupyterlab-server<3,>=2.27.1->notebook>=6.4.0->-r requirements.txt (line 7)) (4.23.0)\n",
      "Requirement already satisfied: requests>=2.31 in /Users/Laura/anaconda3/envs/cogs118afinal/lib/python3.12/site-packages (from jupyterlab-server<3,>=2.27.1->notebook>=6.4.0->-r requirements.txt (line 7)) (2.32.3)\n",
      "Requirement already satisfied: beautifulsoup4 in /Users/Laura/anaconda3/envs/cogs118afinal/lib/python3.12/site-packages (from nbconvert->jupyter>=1.0.0->-r requirements.txt (line 6)) (4.12.3)\n",
      "Requirement already satisfied: bleach!=5.0.0 in /Users/Laura/anaconda3/envs/cogs118afinal/lib/python3.12/site-packages (from nbconvert->jupyter>=1.0.0->-r requirements.txt (line 6)) (6.2.0)\n",
      "Requirement already satisfied: defusedxml in /Users/Laura/anaconda3/envs/cogs118afinal/lib/python3.12/site-packages (from nbconvert->jupyter>=1.0.0->-r requirements.txt (line 6)) (0.7.1)\n",
      "Requirement already satisfied: jupyterlab-pygments in /Users/Laura/anaconda3/envs/cogs118afinal/lib/python3.12/site-packages (from nbconvert->jupyter>=1.0.0->-r requirements.txt (line 6)) (0.1.2)\n",
      "Requirement already satisfied: markupsafe>=2.0 in /Users/Laura/anaconda3/envs/cogs118afinal/lib/python3.12/site-packages (from nbconvert->jupyter>=1.0.0->-r requirements.txt (line 6)) (2.1.3)\n",
      "Requirement already satisfied: mistune<4,>=2.0.3 in /Users/Laura/anaconda3/envs/cogs118afinal/lib/python3.12/site-packages (from nbconvert->jupyter>=1.0.0->-r requirements.txt (line 6)) (2.0.4)\n",
      "Requirement already satisfied: nbclient>=0.5.0 in /Users/Laura/anaconda3/envs/cogs118afinal/lib/python3.12/site-packages (from nbconvert->jupyter>=1.0.0->-r requirements.txt (line 6)) (0.8.0)\n",
      "Requirement already satisfied: pandocfilters>=1.4.1 in /Users/Laura/anaconda3/envs/cogs118afinal/lib/python3.12/site-packages (from nbconvert->jupyter>=1.0.0->-r requirements.txt (line 6)) (1.5.0)\n",
      "Requirement already satisfied: pygments>=2.4.1 in /Users/Laura/anaconda3/envs/cogs118afinal/lib/python3.12/site-packages (from nbconvert->jupyter>=1.0.0->-r requirements.txt (line 6)) (2.15.1)\n",
      "Requirement already satisfied: tinycss2 in /Users/Laura/anaconda3/envs/cogs118afinal/lib/python3.12/site-packages (from nbconvert->jupyter>=1.0.0->-r requirements.txt (line 6)) (1.2.1)\n",
      "Requirement already satisfied: six>=1.5 in /Users/Laura/anaconda3/envs/cogs118afinal/lib/python3.12/site-packages (from python-dateutil>=2.8.2->pandas>=1.3.0->-r requirements.txt (line 2)) (1.16.0)\n",
      "Requirement already satisfied: widgetsnbextension~=4.0.12 in /Users/Laura/anaconda3/envs/cogs118afinal/lib/python3.12/site-packages (from ipywidgets->jupyter>=1.0.0->-r requirements.txt (line 6)) (4.0.13)\n",
      "Requirement already satisfied: jupyterlab-widgets~=3.0.12 in /Users/Laura/anaconda3/envs/cogs118afinal/lib/python3.12/site-packages (from ipywidgets->jupyter>=1.0.0->-r requirements.txt (line 6)) (3.0.13)\n",
      "Requirement already satisfied: prompt-toolkit>=3.0.30 in /Users/Laura/anaconda3/envs/cogs118afinal/lib/python3.12/site-packages (from jupyter-console->jupyter>=1.0.0->-r requirements.txt (line 6)) (3.0.43)\n",
      "Requirement already satisfied: qtpy>=2.4.0 in /Users/Laura/anaconda3/envs/cogs118afinal/lib/python3.12/site-packages (from qtconsole->jupyter>=1.0.0->-r requirements.txt (line 6)) (2.4.1)\n",
      "Requirement already satisfied: idna>=2.8 in /Users/Laura/anaconda3/envs/cogs118afinal/lib/python3.12/site-packages (from anyio>=3.1.0->jupyter-server<3,>=2.4.0->notebook>=6.4.0->-r requirements.txt (line 7)) (3.7)\n",
      "Requirement already satisfied: sniffio>=1.1 in /Users/Laura/anaconda3/envs/cogs118afinal/lib/python3.12/site-packages (from anyio>=3.1.0->jupyter-server<3,>=2.4.0->notebook>=6.4.0->-r requirements.txt (line 7)) (1.3.0)\n",
      "Requirement already satisfied: argon2-cffi-bindings in /Users/Laura/anaconda3/envs/cogs118afinal/lib/python3.12/site-packages (from argon2-cffi>=21.1->jupyter-server<3,>=2.4.0->notebook>=6.4.0->-r requirements.txt (line 7)) (21.2.0)\n",
      "Requirement already satisfied: webencodings in /Users/Laura/anaconda3/envs/cogs118afinal/lib/python3.12/site-packages (from bleach!=5.0.0->nbconvert->jupyter>=1.0.0->-r requirements.txt (line 6)) (0.5.1)\n",
      "Requirement already satisfied: certifi in /Users/Laura/anaconda3/envs/cogs118afinal/lib/python3.12/site-packages (from httpx>=0.25.0->jupyterlab<4.3,>=4.2.0->notebook>=6.4.0->-r requirements.txt (line 7)) (2024.8.30)\n",
      "Requirement already satisfied: httpcore==1.* in /Users/Laura/anaconda3/envs/cogs118afinal/lib/python3.12/site-packages (from httpx>=0.25.0->jupyterlab<4.3,>=4.2.0->notebook>=6.4.0->-r requirements.txt (line 7)) (1.0.2)\n",
      "Requirement already satisfied: h11<0.15,>=0.13 in /Users/Laura/anaconda3/envs/cogs118afinal/lib/python3.12/site-packages (from httpcore==1.*->httpx>=0.25.0->jupyterlab<4.3,>=4.2.0->notebook>=6.4.0->-r requirements.txt (line 7)) (0.14.0)\n",
      "Requirement already satisfied: decorator in /Users/Laura/anaconda3/envs/cogs118afinal/lib/python3.12/site-packages (from ipython>=7.23.1->ipykernel->jupyter>=1.0.0->-r requirements.txt (line 6)) (5.1.1)\n",
      "Requirement already satisfied: jedi>=0.16 in /Users/Laura/anaconda3/envs/cogs118afinal/lib/python3.12/site-packages (from ipython>=7.23.1->ipykernel->jupyter>=1.0.0->-r requirements.txt (line 6)) (0.19.1)\n",
      "Requirement already satisfied: stack-data in /Users/Laura/anaconda3/envs/cogs118afinal/lib/python3.12/site-packages (from ipython>=7.23.1->ipykernel->jupyter>=1.0.0->-r requirements.txt (line 6)) (0.2.0)\n",
      "Requirement already satisfied: pexpect>4.3 in /Users/Laura/anaconda3/envs/cogs118afinal/lib/python3.12/site-packages (from ipython>=7.23.1->ipykernel->jupyter>=1.0.0->-r requirements.txt (line 6)) (4.8.0)\n",
      "Requirement already satisfied: attrs>=22.2.0 in /Users/Laura/anaconda3/envs/cogs118afinal/lib/python3.12/site-packages (from jsonschema>=4.18.0->jupyterlab-server<3,>=2.27.1->notebook>=6.4.0->-r requirements.txt (line 7)) (24.2.0)\n",
      "Requirement already satisfied: jsonschema-specifications>=2023.03.6 in /Users/Laura/anaconda3/envs/cogs118afinal/lib/python3.12/site-packages (from jsonschema>=4.18.0->jupyterlab-server<3,>=2.27.1->notebook>=6.4.0->-r requirements.txt (line 7)) (2023.7.1)\n",
      "Requirement already satisfied: referencing>=0.28.4 in /Users/Laura/anaconda3/envs/cogs118afinal/lib/python3.12/site-packages (from jsonschema>=4.18.0->jupyterlab-server<3,>=2.27.1->notebook>=6.4.0->-r requirements.txt (line 7)) (0.30.2)\n",
      "Requirement already satisfied: rpds-py>=0.7.1 in /Users/Laura/anaconda3/envs/cogs118afinal/lib/python3.12/site-packages (from jsonschema>=4.18.0->jupyterlab-server<3,>=2.27.1->notebook>=6.4.0->-r requirements.txt (line 7)) (0.10.6)\n",
      "Requirement already satisfied: platformdirs>=2.5 in /Users/Laura/anaconda3/envs/cogs118afinal/lib/python3.12/site-packages (from jupyter-core!=5.0.*,>=4.12->jupyter-server<3,>=2.4.0->notebook>=6.4.0->-r requirements.txt (line 7)) (3.10.0)\n",
      "Requirement already satisfied: python-json-logger>=2.0.4 in /Users/Laura/anaconda3/envs/cogs118afinal/lib/python3.12/site-packages (from jupyter-events>=0.9.0->jupyter-server<3,>=2.4.0->notebook>=6.4.0->-r requirements.txt (line 7)) (2.0.7)\n",
      "Requirement already satisfied: pyyaml>=5.3 in /Users/Laura/anaconda3/envs/cogs118afinal/lib/python3.12/site-packages (from jupyter-events>=0.9.0->jupyter-server<3,>=2.4.0->notebook>=6.4.0->-r requirements.txt (line 7)) (6.0.2)\n",
      "Requirement already satisfied: rfc3339-validator in /Users/Laura/anaconda3/envs/cogs118afinal/lib/python3.12/site-packages (from jupyter-events>=0.9.0->jupyter-server<3,>=2.4.0->notebook>=6.4.0->-r requirements.txt (line 7)) (0.1.4)\n",
      "Requirement already satisfied: rfc3986-validator>=0.1.1 in /Users/Laura/anaconda3/envs/cogs118afinal/lib/python3.12/site-packages (from jupyter-events>=0.9.0->jupyter-server<3,>=2.4.0->notebook>=6.4.0->-r requirements.txt (line 7)) (0.1.1)\n",
      "Requirement already satisfied: fastjsonschema>=2.15 in /Users/Laura/anaconda3/envs/cogs118afinal/lib/python3.12/site-packages (from nbformat>=5.3.0->jupyter-server<3,>=2.4.0->notebook>=6.4.0->-r requirements.txt (line 7)) (2.20.0)\n",
      "Requirement already satisfied: wcwidth in /Users/Laura/anaconda3/envs/cogs118afinal/lib/python3.12/site-packages (from prompt-toolkit>=3.0.30->jupyter-console->jupyter>=1.0.0->-r requirements.txt (line 6)) (0.2.5)\n",
      "Requirement already satisfied: charset-normalizer<4,>=2 in /Users/Laura/anaconda3/envs/cogs118afinal/lib/python3.12/site-packages (from requests>=2.31->jupyterlab-server<3,>=2.27.1->notebook>=6.4.0->-r requirements.txt (line 7)) (3.3.2)\n",
      "Requirement already satisfied: urllib3<3,>=1.21.1 in /Users/Laura/anaconda3/envs/cogs118afinal/lib/python3.12/site-packages (from requests>=2.31->jupyterlab-server<3,>=2.27.1->notebook>=6.4.0->-r requirements.txt (line 7)) (2.2.3)\n",
      "Requirement already satisfied: ptyprocess in /Users/Laura/anaconda3/envs/cogs118afinal/lib/python3.12/site-packages (from terminado>=0.8.3->jupyter-server<3,>=2.4.0->notebook>=6.4.0->-r requirements.txt (line 7)) (0.7.0)\n",
      "Requirement already satisfied: soupsieve>1.2 in /Users/Laura/anaconda3/envs/cogs118afinal/lib/python3.12/site-packages (from beautifulsoup4->nbconvert->jupyter>=1.0.0->-r requirements.txt (line 6)) (2.5)\n",
      "Requirement already satisfied: parso<0.9.0,>=0.8.3 in /Users/Laura/anaconda3/envs/cogs118afinal/lib/python3.12/site-packages (from jedi>=0.16->ipython>=7.23.1->ipykernel->jupyter>=1.0.0->-r requirements.txt (line 6)) (0.8.3)\n",
      "Requirement already satisfied: fqdn in /Users/Laura/anaconda3/envs/cogs118afinal/lib/python3.12/site-packages (from jsonschema[format-nongpl]>=4.18.0->jupyter-events>=0.9.0->jupyter-server<3,>=2.4.0->notebook>=6.4.0->-r requirements.txt (line 7)) (1.5.1)\n",
      "Requirement already satisfied: isoduration in /Users/Laura/anaconda3/envs/cogs118afinal/lib/python3.12/site-packages (from jsonschema[format-nongpl]>=4.18.0->jupyter-events>=0.9.0->jupyter-server<3,>=2.4.0->notebook>=6.4.0->-r requirements.txt (line 7)) (20.11.0)\n",
      "Requirement already satisfied: jsonpointer>1.13 in /Users/Laura/anaconda3/envs/cogs118afinal/lib/python3.12/site-packages (from jsonschema[format-nongpl]>=4.18.0->jupyter-events>=0.9.0->jupyter-server<3,>=2.4.0->notebook>=6.4.0->-r requirements.txt (line 7)) (3.0.0)\n",
      "Requirement already satisfied: uri-template in /Users/Laura/anaconda3/envs/cogs118afinal/lib/python3.12/site-packages (from jsonschema[format-nongpl]>=4.18.0->jupyter-events>=0.9.0->jupyter-server<3,>=2.4.0->notebook>=6.4.0->-r requirements.txt (line 7)) (1.3.0)\n",
      "Requirement already satisfied: webcolors>=24.6.0 in /Users/Laura/anaconda3/envs/cogs118afinal/lib/python3.12/site-packages (from jsonschema[format-nongpl]>=4.18.0->jupyter-events>=0.9.0->jupyter-server<3,>=2.4.0->notebook>=6.4.0->-r requirements.txt (line 7)) (24.11.1)\n",
      "Requirement already satisfied: cffi>=1.0.1 in /Users/Laura/anaconda3/envs/cogs118afinal/lib/python3.12/site-packages (from argon2-cffi-bindings->argon2-cffi>=21.1->jupyter-server<3,>=2.4.0->notebook>=6.4.0->-r requirements.txt (line 7)) (1.17.1)\n",
      "Requirement already satisfied: executing in /Users/Laura/anaconda3/envs/cogs118afinal/lib/python3.12/site-packages (from stack-data->ipython>=7.23.1->ipykernel->jupyter>=1.0.0->-r requirements.txt (line 6)) (0.8.3)\n",
      "Requirement already satisfied: asttokens in /Users/Laura/anaconda3/envs/cogs118afinal/lib/python3.12/site-packages (from stack-data->ipython>=7.23.1->ipykernel->jupyter>=1.0.0->-r requirements.txt (line 6)) (2.0.5)\n",
      "Requirement already satisfied: pure-eval in /Users/Laura/anaconda3/envs/cogs118afinal/lib/python3.12/site-packages (from stack-data->ipython>=7.23.1->ipykernel->jupyter>=1.0.0->-r requirements.txt (line 6)) (0.2.2)\n",
      "Requirement already satisfied: pycparser in /Users/Laura/anaconda3/envs/cogs118afinal/lib/python3.12/site-packages (from cffi>=1.0.1->argon2-cffi-bindings->argon2-cffi>=21.1->jupyter-server<3,>=2.4.0->notebook>=6.4.0->-r requirements.txt (line 7)) (2.21)\n",
      "Requirement already satisfied: arrow>=0.15.0 in /Users/Laura/anaconda3/envs/cogs118afinal/lib/python3.12/site-packages (from isoduration->jsonschema[format-nongpl]>=4.18.0->jupyter-events>=0.9.0->jupyter-server<3,>=2.4.0->notebook>=6.4.0->-r requirements.txt (line 7)) (1.3.0)\n",
      "Requirement already satisfied: types-python-dateutil>=2.8.10 in /Users/Laura/anaconda3/envs/cogs118afinal/lib/python3.12/site-packages (from arrow>=0.15.0->isoduration->jsonschema[format-nongpl]>=4.18.0->jupyter-events>=0.9.0->jupyter-server<3,>=2.4.0->notebook>=6.4.0->-r requirements.txt (line 7)) (2.9.0.20241206)\n",
      "Note: you may need to restart the kernel to use updated packages.\n"
     ]
    }
   ],
   "source": [
    "%pip install -r requirements.txt"
   ]
  },
  {
   "cell_type": "markdown",
   "metadata": {},
   "source": [
    "Imports"
   ]
  },
  {
   "cell_type": "code",
   "execution_count": 3,
   "metadata": {},
   "outputs": [],
   "source": [
    "# Standard data processing & visualization\n",
    "import numpy as np\n",
    "import pandas as pd\n",
    "import matplotlib.pyplot as plt\n",
    "import seaborn as sns\n",
    "from tqdm import tqdm \n",
    "\n",
    "# Sklearn imports\n",
    "from sklearn.model_selection import train_test_split, cross_validate\n",
    "from sklearn.preprocessing import StandardScaler\n",
    "from sklearn.metrics import (accuracy_score, roc_auc_score, \n",
    "                           confusion_matrix, classification_report)\n",
    "from sklearn.model_selection import learning_curve, GridSearchCV\n",
    "from sklearn.metrics import ConfusionMatrixDisplay\n",
    "\n",
    "# My three classifiers\n",
    "from sklearn.ensemble import RandomForestClassifier\n",
    "from sklearn.neural_network import MLPClassifier\n",
    "from sklearn.svm import SVC\n",
    "\n",
    "# For reproducibility\n",
    "RANDOM_SEED = 42"
   ]
  },
  {
   "cell_type": "markdown",
   "metadata": {},
   "source": [
    "Create functions"
   ]
  },
  {
   "cell_type": "code",
   "execution_count": 4,
   "metadata": {},
   "outputs": [],
   "source": [
    "def get_classifiers():\n",
    "    \"\"\"Return dictionary of classifiers with initial parameters\"\"\"\n",
    "    classifiers = {\n",
    "        'Random Forest': RandomForestClassifier(\n",
    "            n_estimators=100,  # Start with 100 trees\n",
    "            random_state=RANDOM_SEED,\n",
    "            n_jobs=-1  # Use all CPU cores\n",
    "        ),\n",
    "        \n",
    "        'Neural Network': MLPClassifier(\n",
    "            hidden_layer_sizes=(100,),  # Start with one hidden layer\n",
    "            max_iter=1000,\n",
    "            random_state=RANDOM_SEED\n",
    "        ),\n",
    "        \n",
    "        'SVM': SVC(\n",
    "            kernel='rbf',\n",
    "            probability=True,  # Needed for ROC curves\n",
    "            random_state=RANDOM_SEED\n",
    "        )\n",
    "    }\n",
    "    return classifiers\n",
    "\n",
    "# Function to create different train-test splits\n",
    "def create_splits(X, y):\n",
    "    \"\"\"Create different train-test splits (20-80, 50-50, 80-20)\"\"\"\n",
    "    splits = {}\n",
    "    \n",
    "    # 20-80 split\n",
    "    X_train_20, X_test_80, y_train_20, y_test_80 = train_test_split(\n",
    "        X, y, train_size=0.2, random_state=RANDOM_SEED)\n",
    "    splits['20-80'] = (X_train_20, X_test_80, y_train_20, y_test_80)\n",
    "    \n",
    "    # 50-50 split\n",
    "    X_train_50, X_test_50, y_train_50, y_test_50 = train_test_split(\n",
    "        X, y, train_size=0.5, random_state=RANDOM_SEED)\n",
    "    splits['50-50'] = (X_train_50, X_test_50, y_train_50, y_test_50)\n",
    "    \n",
    "    # 80-20 split\n",
    "    X_train_80, X_test_20, y_train_80, y_test_20 = train_test_split(\n",
    "        X, y, train_size=0.8, random_state=RANDOM_SEED)\n",
    "    splits['80-20'] = (X_train_80, X_test_20, y_train_80, y_test_20)\n",
    "    \n",
    "    return splits"
   ]
  },
  {
   "cell_type": "code",
   "execution_count": 5,
   "metadata": {},
   "outputs": [],
   "source": [
    "# Define parameter grids for cross-validation\n",
    "def get_param_grids():\n",
    "    \"\"\"Define parameter grids for each classifier\"\"\"\n",
    "    param_grids = {\n",
    "        'Random Forest': {\n",
    "            'n_estimators': [100, 200],\n",
    "            'max_depth': [None, 10, 20],\n",
    "            'min_samples_split': [2, 5]\n",
    "        },\n",
    "        'Neural Network': {\n",
    "            'hidden_layer_sizes': [(50,), (100,), (50, 50)],\n",
    "            'alpha': [0.0001, 0.001],\n",
    "            'learning_rate_init': [0.001, 0.01]\n",
    "        },\n",
    "        'SVM': {\n",
    "            'C': [0.1, 1, 10],\n",
    "            'gamma': ['scale', 'auto', 0.1],\n",
    "            'kernel': ['rbf', 'linear']\n",
    "        }\n",
    "    }\n",
    "    return param_grids"
   ]
  },
  {
   "cell_type": "code",
   "execution_count": 6,
   "metadata": {},
   "outputs": [],
   "source": [
    "def run_experiment_with_cv(X, y, trial_num):\n",
    "    \"\"\"Run experiment with cross-validation for hyperparameter tuning\"\"\"\n",
    "    results = []\n",
    "    param_grids = get_param_grids()\n",
    "    splits = create_splits(X, y)\n",
    "    base_classifiers = get_classifiers()\n",
    "    \n",
    "    for split_name, (X_train, X_test, y_train, y_test) in splits.items():\n",
    "        # Scale the features\n",
    "        scaler = StandardScaler()\n",
    "        X_train_scaled = scaler.fit_transform(X_train)\n",
    "        X_test_scaled = scaler.transform(X_test)\n",
    "        \n",
    "        for clf_name, base_clf in tqdm(base_classifiers.items(), \n",
    "                                     desc=f'Trial {trial_num+1}, Split {split_name}'):\n",
    "            # Perform GridSearchCV\n",
    "            grid_search = GridSearchCV(\n",
    "                estimator=base_clf,\n",
    "                param_grid=param_grids[clf_name],\n",
    "                cv=5,\n",
    "                scoring='roc_auc',\n",
    "                n_jobs=-1\n",
    "            )\n",
    "            \n",
    "            # Fit and get best model\n",
    "            grid_search.fit(X_train_scaled, y_train)\n",
    "            best_clf = grid_search.best_estimator_\n",
    "            \n",
    "            # Make predictions\n",
    "            y_pred = best_clf.predict(X_test_scaled)\n",
    "            \n",
    "            # Calculate metrics\n",
    "            accuracy = accuracy_score(y_test, y_pred)\n",
    "            roc_auc = roc_auc_score(y_test, best_clf.predict_proba(X_test_scaled)[:,1])\n",
    "            \n",
    "            # Store results\n",
    "            results.append({\n",
    "                'trial': trial_num,\n",
    "                'split': split_name,\n",
    "                'classifier': clf_name,\n",
    "                'accuracy': accuracy,\n",
    "                'roc_auc': roc_auc,\n",
    "                'best_params': str(grid_search.best_params_)\n",
    "            })\n",
    "    \n",
    "    return pd.DataFrame(results)"
   ]
  },
  {
   "cell_type": "code",
   "execution_count": 7,
   "metadata": {},
   "outputs": [],
   "source": [
    "def plot_learning_curves(X, y, classifier_name, classifier):\n",
    "    \"\"\"Plot learning curves for a classifier\"\"\"\n",
    "    train_sizes = np.linspace(0.1, 1.0, 5)\n",
    "    \n",
    "    train_sizes, train_scores, test_scores = learning_curve(\n",
    "        classifier, X, y,\n",
    "        train_sizes=train_sizes, cv=5,\n",
    "        scoring='accuracy',\n",
    "        n_jobs=-1\n",
    "    )\n",
    "    \n",
    "    train_mean = np.mean(train_scores, axis=1)\n",
    "    train_std = np.std(train_scores, axis=1)\n",
    "    test_mean = np.mean(test_scores, axis=1)\n",
    "    test_std = np.std(test_scores, axis=1)\n",
    "    \n",
    "    plt.figure(figsize=(10, 6))\n",
    "    plt.plot(train_sizes, train_mean, label='Training score')\n",
    "    plt.plot(train_sizes, test_mean, label='Cross-validation score')\n",
    "    \n",
    "    plt.fill_between(train_sizes, train_mean - train_std,\n",
    "                     train_mean + train_std, alpha=0.1)\n",
    "    plt.fill_between(train_sizes, test_mean - test_std,\n",
    "                     test_mean + test_std, alpha=0.1)\n",
    "    \n",
    "    plt.xlabel('Training Examples')\n",
    "    plt.ylabel('Score')\n",
    "    plt.title(f'Learning Curves for {classifier_name}')\n",
    "    plt.legend(loc='best')\n",
    "    plt.grid(True)\n",
    "    plt.show()"
   ]
  },
  {
   "cell_type": "markdown",
   "metadata": {},
   "source": [
    "# Heart Disease dataset\n",
    "\n",
    "Source: https://archive.ics.uci.edu/dataset/45/heart+disease"
   ]
  },
  {
   "cell_type": "markdown",
   "metadata": {},
   "source": [
    "### Data setup"
   ]
  },
  {
   "cell_type": "code",
   "execution_count": 8,
   "metadata": {},
   "outputs": [],
   "source": [
    "# Load the heart disease dataset\n",
    "url = \"https://archive.ics.uci.edu/ml/machine-learning-databases/heart-disease/processed.cleveland.data\"\n",
    "columns = ['age', 'sex', 'cp', 'trestbps', 'chol', 'fbs', 'restecg', \n",
    "           'thalach', 'exang', 'oldpeak', 'slope', 'ca', 'thal', 'target']\n",
    "data = pd.read_csv(url, names=columns, na_values='?')"
   ]
  },
  {
   "cell_type": "code",
   "execution_count": 9,
   "metadata": {},
   "outputs": [
    {
     "name": "stdout",
     "output_type": "stream",
     "text": [
      "Dataset Shape: (303, 14)\n",
      "\n",
      "First few rows:\n",
      "    age  sex   cp  trestbps   chol  fbs  restecg  thalach  exang  oldpeak  \\\n",
      "0  63.0  1.0  1.0     145.0  233.0  1.0      2.0    150.0    0.0      2.3   \n",
      "1  67.0  1.0  4.0     160.0  286.0  0.0      2.0    108.0    1.0      1.5   \n",
      "2  67.0  1.0  4.0     120.0  229.0  0.0      2.0    129.0    1.0      2.6   \n",
      "3  37.0  1.0  3.0     130.0  250.0  0.0      0.0    187.0    0.0      3.5   \n",
      "4  41.0  0.0  2.0     130.0  204.0  0.0      2.0    172.0    0.0      1.4   \n",
      "\n",
      "   slope   ca  thal  target  \n",
      "0    3.0  0.0   6.0       0  \n",
      "1    2.0  3.0   3.0       2  \n",
      "2    2.0  2.0   7.0       1  \n",
      "3    3.0  0.0   3.0       0  \n",
      "4    1.0  0.0   3.0       0  \n",
      "\n",
      "Missing values:\n",
      "age         0\n",
      "sex         0\n",
      "cp          0\n",
      "trestbps    0\n",
      "chol        0\n",
      "fbs         0\n",
      "restecg     0\n",
      "thalach     0\n",
      "exang       0\n",
      "oldpeak     0\n",
      "slope       0\n",
      "ca          4\n",
      "thal        2\n",
      "target      0\n",
      "dtype: int64\n",
      "\n",
      "Basic statistics:\n",
      "              age         sex          cp    trestbps        chol         fbs  \\\n",
      "count  303.000000  303.000000  303.000000  303.000000  303.000000  303.000000   \n",
      "mean    54.438944    0.679868    3.158416  131.689769  246.693069    0.148515   \n",
      "std      9.038662    0.467299    0.960126   17.599748   51.776918    0.356198   \n",
      "min     29.000000    0.000000    1.000000   94.000000  126.000000    0.000000   \n",
      "25%     48.000000    0.000000    3.000000  120.000000  211.000000    0.000000   \n",
      "50%     56.000000    1.000000    3.000000  130.000000  241.000000    0.000000   \n",
      "75%     61.000000    1.000000    4.000000  140.000000  275.000000    0.000000   \n",
      "max     77.000000    1.000000    4.000000  200.000000  564.000000    1.000000   \n",
      "\n",
      "          restecg     thalach       exang     oldpeak       slope          ca  \\\n",
      "count  303.000000  303.000000  303.000000  303.000000  303.000000  299.000000   \n",
      "mean     0.990099  149.607261    0.326733    1.039604    1.600660    0.672241   \n",
      "std      0.994971   22.875003    0.469794    1.161075    0.616226    0.937438   \n",
      "min      0.000000   71.000000    0.000000    0.000000    1.000000    0.000000   \n",
      "25%      0.000000  133.500000    0.000000    0.000000    1.000000    0.000000   \n",
      "50%      1.000000  153.000000    0.000000    0.800000    2.000000    0.000000   \n",
      "75%      2.000000  166.000000    1.000000    1.600000    2.000000    1.000000   \n",
      "max      2.000000  202.000000    1.000000    6.200000    3.000000    3.000000   \n",
      "\n",
      "             thal      target  \n",
      "count  301.000000  303.000000  \n",
      "mean     4.734219    0.937294  \n",
      "std      1.939706    1.228536  \n",
      "min      3.000000    0.000000  \n",
      "25%      3.000000    0.000000  \n",
      "50%      3.000000    0.000000  \n",
      "75%      7.000000    2.000000  \n",
      "max      7.000000    4.000000  \n",
      "\n",
      "Class distribution:\n",
      "target\n",
      "0    164\n",
      "1     55\n",
      "2     36\n",
      "3     35\n",
      "4     13\n",
      "Name: count, dtype: int64\n"
     ]
    }
   ],
   "source": [
    "# Basic data exploration\n",
    "print(\"Dataset Shape:\", data.shape)\n",
    "print(\"\\nFirst few rows:\")\n",
    "print(data.head())\n",
    "\n",
    "# Check for missing values\n",
    "print(\"\\nMissing values:\")\n",
    "print(data.isnull().sum())\n",
    "\n",
    "# Basic statistics\n",
    "print(\"\\nBasic statistics:\")\n",
    "print(data.describe())\n",
    "\n",
    "# Class distribution\n",
    "print(\"\\nClass distribution:\")\n",
    "print(data['target'].value_counts())"
   ]
  },
  {
   "cell_type": "code",
   "execution_count": 10,
   "metadata": {},
   "outputs": [
    {
     "data": {
      "image/png": "[encoded data removed]",
      "text/plain": [
       "<Figure size 800x600 with 1 Axes>"
      ]
     },
     "metadata": {},
     "output_type": "display_data"
    }
   ],
   "source": [
    "# Convert target to binary (0 for no disease, 1 for disease)\n",
    "data['target'] = data['target'].map(lambda x: 1 if x > 0 else 0)\n",
    "\n",
    "# Visualize class distribution\n",
    "plt.figure(figsize=(8, 6))\n",
    "sns.countplot(data=data, x='target')\n",
    "plt.title('Distribution of Heart Disease Cases')\n",
    "plt.xlabel('Disease Present')\n",
    "plt.ylabel('Count')\n",
    "plt.show()\n",
    "\n",
    "# Split features and target\n",
    "X = data.drop('target', axis=1)\n",
    "y = data['target']\n",
    "\n",
    "# Handle any missing values\n",
    "if X.isnull().any().any():\n",
    "    X = X.fillna(X.mean())"
   ]
  },
  {
   "cell_type": "markdown",
   "metadata": {},
   "source": [
    "### Run experiments"
   ]
  },
  {
   "cell_type": "code",
   "execution_count": 11,
   "metadata": {},
   "outputs": [
    {
     "name": "stdout",
     "output_type": "stream",
     "text": [
      "Running experiments with cross-validation...\n"
     ]
    },
    {
     "name": "stderr",
     "output_type": "stream",
     "text": [
      "Trial 1, Split 20-80: 100%|██████████| 3/3 [00:34<00:00, 11.65s/it]\n",
      "Trial 1, Split 50-50: 100%|██████████| 3/3 [00:30<00:00, 10.16s/it]\n",
      "Trial 1, Split 80-20: 100%|██████████| 3/3 [00:38<00:00, 12.92s/it]\n",
      "Trial 2, Split 20-80: 100%|██████████| 3/3 [00:22<00:00,  7.49s/it]\n",
      "Trial 2, Split 50-50: 100%|██████████| 3/3 [00:36<00:00, 12.19s/it]\n",
      "Trial 2, Split 80-20: 100%|██████████| 3/3 [00:34<00:00, 11.44s/it]\n",
      "Trial 3, Split 20-80: 100%|██████████| 3/3 [00:26<00:00,  8.68s/it]\n",
      "Trial 3, Split 50-50: 100%|██████████| 3/3 [00:24<00:00,  8.00s/it]\n",
      "Trial 3, Split 80-20: 100%|██████████| 3/3 [00:32<00:00, 10.70s/it]"
     ]
    },
    {
     "name": "stdout",
     "output_type": "stream",
     "text": [
      "\n",
      "Average Performance:\n",
      "                      accuracy   roc_auc\n",
      "split classifier                        \n",
      "20-80 Neural Network  0.777778  0.832177\n",
      "      Random Forest   0.786008  0.886033\n",
      "      SVM             0.806584  0.904257\n",
      "50-50 Neural Network  0.763158  0.847743\n",
      "      Random Forest   0.828947  0.906424\n",
      "      SVM             0.809211  0.923090\n",
      "80-20 Neural Network  0.819672  0.877155\n",
      "      Random Forest   0.885246  0.942888\n",
      "      SVM             0.901639  0.934267\n"
     ]
    },
    {
     "name": "stderr",
     "output_type": "stream",
     "text": [
      "\n"
     ]
    }
   ],
   "source": [
    "print(\"Running experiments with cross-validation...\")\n",
    "all_results = []\n",
    "for trial in range(3):\n",
    "    trial_results = run_experiment_with_cv(X, y, trial)\n",
    "    all_results.append(trial_results)\n",
    "\n",
    "# Combine and analyze results\n",
    "final_results = pd.concat(all_results, ignore_index=True)\n",
    "avg_performance = final_results.groupby(['split', 'classifier'])[['accuracy', 'roc_auc']].mean()\n",
    "\n",
    "# Print results\n",
    "print(\"\\nAverage Performance:\")\n",
    "print(avg_performance)"
   ]
  },
  {
   "cell_type": "code",
   "execution_count": 12,
   "metadata": {},
   "outputs": [
    {
     "name": "stdout",
     "output_type": "stream",
     "text": [
      "\n",
      "Best Parameters:\n",
      "\n",
      "Random Forest:\n",
      "{'max_depth': None, 'min_samples_split': 2, 'n_estimators': 200}\n",
      "\n",
      "Neural Network:\n",
      "{'alpha': 0.0001, 'hidden_layer_sizes': (100,), 'learning_rate_init': 0.001}\n",
      "\n",
      "SVM:\n",
      "{'C': 0.1, 'gamma': 'scale', 'kernel': 'linear'}\n"
     ]
    }
   ],
   "source": [
    "# Print best parameters for each classifier\n",
    "print(\"\\nBest Parameters:\")\n",
    "for clf in final_results['classifier'].unique():\n",
    "    print(f\"\\n{clf}:\")\n",
    "    params = final_results[final_results['classifier'] == clf]['best_params'].iloc[0]\n",
    "    print(params)"
   ]
  },
  {
   "cell_type": "code",
   "execution_count": 19,
   "metadata": {},
   "outputs": [
    {
     "data": {
      "text/plain": [
       "<Figure size 1200x600 with 0 Axes>"
      ]
     },
     "metadata": {},
     "output_type": "display_data"
    },
    {
     "data": {
      "image/png": "[encoded data removed]",
      "text/plain": [
       "<Figure size 640x480 with 1 Axes>"
      ]
     },
     "metadata": {},
     "output_type": "display_data"
    },
    {
     "data": {
      "text/plain": [
       "<Figure size 1200x600 with 0 Axes>"
      ]
     },
     "metadata": {},
     "output_type": "display_data"
    },
    {
     "data": {
      "image/png": "[encoded data removed]",
      "text/plain": [
       "<Figure size 640x480 with 1 Axes>"
      ]
     },
     "metadata": {},
     "output_type": "display_data"
    }
   ],
   "source": [
    "plt.figure(figsize=(12, 6))\n",
    "avg_performance['accuracy'].unstack().plot(kind='bar')\n",
    "plt.title('Average Accuracy by Split Ratio and Classifier')\n",
    "plt.xlabel('Train-Test Split')\n",
    "plt.ylabel('Accuracy')\n",
    "plt.xticks(rotation=45)\n",
    "plt.legend(title='Classifier', loc='lower right')\n",
    "plt.tight_layout()\n",
    "plt.show()\n",
    "\n",
    "plt.figure(figsize=(12, 6))\n",
    "avg_performance['roc_auc'].unstack().plot(kind='bar')\n",
    "plt.title('Average ROC-AUC by Split Ratio and Classifier')\n",
    "plt.xlabel('Train-Test Split')\n",
    "plt.ylabel('ROC-AUC')\n",
    "plt.xticks(rotation=45)\n",
    "plt.legend(title='Classifier', loc='lower right')\n",
    "plt.tight_layout()\n",
    "plt.show()"
   ]
  }
 ],
 "metadata": {
  "kernelspec": {
   "display_name": "cogs118afinal",
   "language": "python",
   "name": "python3"
  },
  "language_info": {
   "codemirror_mode": {
    "name": "ipython",
    "version": 3
   },
   "file_extension": ".py",
   "mimetype": "text/x-python",
   "name": "python",
   "nbconvert_exporter": "python",
   "pygments_lexer": "ipython3",
   "version": "3.12.7"
  }
 },
 "nbformat": 4,
 "nbformat_minor": 2
}
