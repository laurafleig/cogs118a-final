{
 "cells": [
  {
   "cell_type": "markdown",
   "metadata": {},
   "source": [
    "Domain: medical diagnosis\n",
    "\n",
    "Datasets: 3 binary\n",
    "\n",
    "Classifiers: Random Forests, Neural Networks, SVMs"
   ]
  },
  {
   "cell_type": "markdown",
   "metadata": {},
   "source": [
    "Experimental flow:\n",
    "\n",
    "- For each dataset:\n",
    "    - For each partition (20/80, 50/50, 80/20):\n",
    "        - For each trial (1,2,3):\n",
    "            - For each classifier:\n",
    "                1. Split data according to partition\n",
    "                2. Use cross-validation on training data to find best hyperparameters\n",
    "                3. Train final model with best hyperparameters\n",
    "                4. Test on held-out test data\n",
    "                5. Record metrics"
   ]
  },
  {
   "cell_type": "markdown",
   "metadata": {},
   "source": [
    "Datasets:\n",
    "- Heart Disease (HeartDisease.ipynb)\n",
    "- Breast Cancer (BreastCancer.ipynb)\n",
    "- Parkinson's Disease (Parkinsons.ipynb)"
   ]
  }
 ],
 "metadata": {
  "language_info": {
   "name": "python"
  }
 },
 "nbformat": 4,
 "nbformat_minor": 2
}
